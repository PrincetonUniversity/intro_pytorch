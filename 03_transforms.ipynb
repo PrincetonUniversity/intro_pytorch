{
  "cells": [
    {
      "cell_type": "markdown",
      "metadata": {
        "id": "Cq1FOizhSY08"
      },
      "source": [
        "# Transforms\n",
        "\n",
        "Data does not always come in its final processed form that is required for\n",
        "training machine learning algorithms. We use **transforms** to perform some\n",
        "manipulation of the data and make it suitable for training.\n",
        "\n",
        "All TorchVision datasets have two parameters -``transform`` to modify the features and\n",
        "``target_transform`` to modify the labels - that accept callables containing the transformation logic.\n",
        "The [torchvision.transforms](https://pytorch.org/vision/stable/transforms.html) module offers\n",
        "several commonly-used transforms out of the box.\n",
        "\n",
        "The FashionMNIST features are in PIL Image format, and the labels are integers.\n",
        "For training, we need the features as normalized tensors, and the labels as one-hot encoded tensors.\n",
        "To make these transformations, we use ``ToTensor`` and ``Lambda``.\n"
      ]
    },
    {
      "cell_type": "code",
      "execution_count": null,
      "metadata": {
        "id": "Nd6NhUbnSY0-"
      },
      "outputs": [],
      "source": [
        "import torch\n",
        "from torchvision import datasets\n",
        "from torchvision.transforms import v2\n",
        "\n",
        "ds = datasets.FashionMNIST(\n",
        "    root=\"data\",\n",
        "    train=True,\n",
        "    download=True,\n",
        "    transform=v2.ToTensor(),\n",
        "    target_transform=v2.Lambda(lambda y: torch.zeros(10, dtype=torch.float).scatter_(0, torch.tensor(y), value=1))\n",
        ")"
      ]
    },
    {
      "cell_type": "markdown",
      "metadata": {
        "id": "WRAA9PJYSY0-"
      },
      "source": [
        "## ToTensor()\n",
        "\n",
        "[ToTensor](https://pytorch.org/vision/stable/transforms.html#torchvision.transforms.ToTensor)\n",
        "converts a PIL image or NumPy ``ndarray`` into a ``FloatTensor`` and scales\n",
        "the image's pixel intensity values in the range [0., 1.]\n",
        "\n",
        "\n"
      ]
    },
    {
      "cell_type": "markdown",
      "metadata": {
        "id": "65ZudhGASY0_"
      },
      "source": [
        "## Lambda Transforms\n",
        "\n",
        "Lambda transforms apply any user-defined lambda function. Here, we define a function\n",
        "to turn the integer into a one-hot encoded tensor.\n",
        "It first creates a zero tensor of size 10 (the number of labels in our dataset) and calls\n",
        "[scatter_](https://pytorch.org/docs/stable/generated/torch.Tensor.scatter_.html) which assigns a\n",
        "``value=1`` on the index as given by the label ``y``.\n",
        "\n"
      ]
    },
    {
      "cell_type": "code",
      "execution_count": null,
      "metadata": {
        "id": "lSyJA4gJSY0_"
      },
      "outputs": [],
      "source": [
        "target_transform = v2.Lambda(lambda y: torch.zeros(\n",
        "    10, dtype=torch.float).scatter_(dim=0, index=torch.tensor(y), value=1))"
      ]
    },
    {
      "cell_type": "markdown",
      "metadata": {
        "id": "6dqTRqo_SY0_"
      },
      "source": [
        "--------------\n",
        "\n",
        "\n"
      ]
    },
    {
      "cell_type": "markdown",
      "source": [
        "# Exercise\n",
        "\n",
        "Learn about the Normalize transform by looking at the documentation. Try to understand the following code:"
      ],
      "metadata": {
        "id": "XkpJwAeHl_Ob"
      }
    },
    {
      "cell_type": "code",
      "source": [
        "from torchvision.transforms import v2\n",
        "from torchvision import datasets\n",
        "\n",
        "transform = v2.Compose([v2.ToTensor(), v2.Normalize((0.1307,), (0.3081,))])\n",
        "ds = datasets.MNIST('data/', train=True, download=True, transform=transform)"
      ],
      "metadata": {
        "id": "CsU3tQBel4Sm"
      },
      "execution_count": null,
      "outputs": []
    },
    {
      "cell_type": "markdown",
      "metadata": {
        "id": "D-T_9Dc1SY1A"
      },
      "source": [
        "### Further Reading\n",
        "- [torchvision.transforms API](https://pytorch.org/vision/stable/transforms.html)\n",
        "\n"
      ]
    }
  ],
  "metadata": {
    "kernelspec": {
      "display_name": "Python 3",
      "language": "python",
      "name": "python3"
    },
    "language_info": {
      "codemirror_mode": {
        "name": "ipython",
        "version": 3
      },
      "file_extension": ".py",
      "mimetype": "text/x-python",
      "name": "python",
      "nbconvert_exporter": "python",
      "pygments_lexer": "ipython3",
      "version": "3.10.13"
    },
    "colab": {
      "provenance": []
    }
  },
  "nbformat": 4,
  "nbformat_minor": 0
}
